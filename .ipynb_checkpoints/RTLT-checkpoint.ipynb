{
 "cells": [
  {
   "cell_type": "code",
   "execution_count": 1,
   "metadata": {},
   "outputs": [],
   "source": [
    "import speech_recognition as sr\n",
    "import pyttsx3\n",
    "import os\n",
    "from git import Repo\n",
    "import git\n",
    "import clipboard\n",
    "import os"
   ]
  },
  {
   "cell_type": "code",
   "execution_count": 2,
   "metadata": {},
   "outputs": [],
   "source": [
    "r = sr.Recognizer()"
   ]
  },
  {
   "cell_type": "code",
   "execution_count": 3,
   "metadata": {},
   "outputs": [],
   "source": [
    "engine = pyttsx3.init('sapi5')\n",
    "voices = engine.getProperty('voices')\n",
    "engine.setProperty('voices',voices[0].id)\n",
    "\n",
    "def SpeakText(command):    \n",
    "    print('I am invoked')\n",
    "    engine.say(command)\n",
    "    engine.runAndWait()"
   ]
  },
  {
   "cell_type": "code",
   "execution_count": 4,
   "metadata": {},
   "outputs": [],
   "source": [
    "def recognizeSpeech():\n",
    "    with sr.Microphone() as source2:\n",
    "        print(\"Hello Listening to your Voice\")\n",
    "        r.adjust_for_ambient_noise(source2, duration=2)\n",
    "        print(\"Start to speak\")\n",
    "\n",
    "        audio2 = r.listen(source2)\n",
    "\n",
    "        MyText = r.recognize_google(audio2)\n",
    "        MyText = MyText.lower()\n",
    "        return MyText"
   ]
  },
  {
   "cell_type": "code",
   "execution_count": 9,
   "metadata": {},
   "outputs": [
    {
     "name": "stdout",
     "output_type": "stream",
     "text": [
      "Enter the Path: D:\\Virag essentials\\Sem-6\n"
     ]
    }
   ],
   "source": [
    "path = input(\"Enter the Path: \")\n"
   ]
  },
  {
   "cell_type": "code",
   "execution_count": 10,
   "metadata": {},
   "outputs": [
    {
     "name": "stdout",
     "output_type": "stream",
     "text": [
      "https://github.com/19IT114/Java-Basic-programs.git\n",
      "19IT114\n",
      "Java-Basic-programs\n"
     ]
    }
   ],
   "source": [
    "repo_link = clipboard.paste()\n",
    "repo_name=(repo_link.split('/')[-1].split('.git')[0])\n",
    "author_name = (repo_link.split('/')[-2])\n",
    "print(repo_link)\n",
    "print(author_name)\n",
    "print(repo_name)\n",
    "# git_repo = git.repo(repo_link)"
   ]
  },
  {
   "cell_type": "code",
   "execution_count": 11,
   "metadata": {},
   "outputs": [],
   "source": [
    "#possible clone commands\n",
    "clone_commands= ['grown','git clone','clone','download','cone','loan']"
   ]
  },
  {
   "cell_type": "code",
   "execution_count": 14,
   "metadata": {},
   "outputs": [
    {
     "name": "stdout",
     "output_type": "stream",
     "text": [
      "Hello Listening to your Voice\n",
      "Start to speak\n",
      "Your command:  clone\n",
      "I am invoked\n"
     ]
    }
   ],
   "source": [
    "#git clone\n",
    "command = recognizeSpeech()\n",
    "print(\"Your command: \",command)\n",
    "try:\n",
    "  if command in clone_commands:\n",
    "    git.Git(path).clone(repo_link)\n",
    "    SpeakText(\"Your Repository has been successfully cloned.\")\n",
    "  else:\n",
    "    SpeakText(\"I am not able to get that command. Please try again.\")\n",
    "except:\n",
    "  SpeakText(\"Cannot Clone the current Repository to the specified Directory\")\n"
   ]
  },
  {
   "cell_type": "code",
   "execution_count": 15,
   "metadata": {},
   "outputs": [
    {
     "name": "stdout",
     "output_type": "stream",
     "text": [
      "D:\\Virag essentials\\Sem-6\n",
      "D:\\Virag essentials\\Sem-6\\Java-Basic-programs\n"
     ]
    }
   ],
   "source": [
    "print(path)\n",
    "repopath = path +'\\\\'+ repo_name\n",
    "print(repopath)\n",
    "git_repo = git.Repo(repopath)"
   ]
  },
  {
   "cell_type": "code",
   "execution_count": 16,
   "metadata": {},
   "outputs": [],
   "source": [
    "push_commands = ['save','save my changes','commit']"
   ]
  },
  {
   "cell_type": "code",
   "execution_count": 19,
   "metadata": {},
   "outputs": [
    {
     "name": "stdout",
     "output_type": "stream",
     "text": [
      "Hello Listening to your Voice\n",
      "Start to speak\n",
      "save\n",
      "I am invoked\n",
      "Hello Listening to your Voice\n",
      "Start to speak\n",
      "this is my first commit\n",
      "I am invoked\n"
     ]
    }
   ],
   "source": [
    "#git commit\n",
    "command = recognizeSpeech()\n",
    "print (command)\n",
    "try:\n",
    "  if command in push_commands:\n",
    "    git_repo.git.add('--all')\n",
    "    SpeakText(\"Please state the commit message: \")\n",
    "    commit_message = recognizeSpeech()\n",
    "    print(commit_message)\n",
    "    git_repo.git.commit('-m', commit_message,author=author_name)\n",
    "    SpeakText(\"Your changes have been commited successfully.\")\n",
    "  else:\n",
    "    SpeakText(\"I am not able to get that command. Please try again.\")\n",
    "except:\n",
    "  SpeakText(\"No new changes found.\")"
   ]
  },
  {
   "cell_type": "code",
   "execution_count": 20,
   "metadata": {},
   "outputs": [],
   "source": [
    "push_commands = ['push','kush','khush','upload','use']"
   ]
  },
  {
   "cell_type": "code",
   "execution_count": 21,
   "metadata": {
    "scrolled": true
   },
   "outputs": [
    {
     "name": "stdout",
     "output_type": "stream",
     "text": [
      "Hello Listening to your Voice\n",
      "Start to speak\n",
      "upload\n",
      "I am invoked\n",
      "Hello Listening to your Voice\n",
      "Start to speak\n",
      "this is my first comment\n",
      "I am invoked\n"
     ]
    }
   ],
   "source": [
    "#git push\n",
    "command = recognizeSpeech()\n",
    "print (command)\n",
    "try:\n",
    "  if command in push_commands:\n",
    "    git_repo.git.add('--all')\n",
    "    SpeakText(\"Please state the commit message: \")\n",
    "    commit_message = recognizeSpeech()\n",
    "    print(commit_message)\n",
    "    git_repo.git.commit('-m', commit_message,author=author_name)\n",
    "    origin = git_repo.remote(name='origin')\n",
    "    origin.push()\n",
    "    SpeakText(\"Your changes have been pushed successfully.\")\n",
    "  else:\n",
    "    SpeakText(\"I am not able to get that command. Please try again.\")\n",
    "except:\n",
    "  SpeakText(\"No new changes found.\")"
   ]
  },
  {
   "cell_type": "code",
   "execution_count": null,
   "metadata": {},
   "outputs": [],
   "source": []
  }
 ],
 "metadata": {
  "kernelspec": {
   "display_name": "Python 3",
   "language": "python",
   "name": "python3"
  },
  "language_info": {
   "codemirror_mode": {
    "name": "ipython",
    "version": 3
   },
   "file_extension": ".py",
   "mimetype": "text/x-python",
   "name": "python",
   "nbconvert_exporter": "python",
   "pygments_lexer": "ipython3",
   "version": "3.8.5"
  }
 },
 "nbformat": 4,
 "nbformat_minor": 4
}
